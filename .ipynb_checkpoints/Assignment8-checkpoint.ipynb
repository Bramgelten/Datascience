{
 "cells": [
  {
   "cell_type": "markdown",
   "id": "2e937006",
   "metadata": {},
   "source": [
    "### Portfolio assignment 8\n",
    "15 min: \n",
    "- Calculate the 90%, 95%, 99% and 99.99% confidence interval for at least 2 columns with numerical data in the dataset that you chose in portfolio assignment 4. Do you see the impact the confidence has on the interval?\n",
    "- Now calculate the 95% confidence interval again but use only the first 10% of your rows. Compare this interval to the previous 95% confidence interval you calculated. Do you see the impact of having less data?"
   ]
  },
  {
   "cell_type": "code",
   "execution_count": 3,
   "id": "58145d26",
   "metadata": {},
   "outputs": [],
   "source": [
    "import seaborn as sns"
   ]
  },
  {
   "cell_type": "code",
   "execution_count": 6,
   "id": "e9884dbb",
   "metadata": {},
   "outputs": [],
   "source": [
    "import pandas as pd"
   ]
  },
  {
   "cell_type": "code",
   "execution_count": 7,
   "id": "e013cdab",
   "metadata": {},
   "outputs": [],
   "source": [
    "import scipy.stats as st"
   ]
  },
  {
   "cell_type": "code",
   "execution_count": 8,
   "id": "11c204d2",
   "metadata": {},
   "outputs": [
    {
     "data": {
      "text/html": [
       "<div>\n",
       "<style scoped>\n",
       "    .dataframe tbody tr th:only-of-type {\n",
       "        vertical-align: middle;\n",
       "    }\n",
       "\n",
       "    .dataframe tbody tr th {\n",
       "        vertical-align: top;\n",
       "    }\n",
       "\n",
       "    .dataframe thead th {\n",
       "        text-align: right;\n",
       "    }\n",
       "</style>\n",
       "<table border=\"1\" class=\"dataframe\">\n",
       "  <thead>\n",
       "    <tr style=\"text-align: right;\">\n",
       "      <th></th>\n",
       "      <th>Unnamed: 0</th>\n",
       "      <th>name</th>\n",
       "      <th>country</th>\n",
       "      <th>team</th>\n",
       "      <th>races</th>\n",
       "      <th>years_in_f1</th>\n",
       "      <th>championships</th>\n",
       "      <th>gp_wins</th>\n",
       "      <th>podiums</th>\n",
       "      <th>poles</th>\n",
       "      <th>dnfs</th>\n",
       "      <th>fav_circuit</th>\n",
       "      <th>avg_yearly_salary</th>\n",
       "    </tr>\n",
       "  </thead>\n",
       "  <tbody>\n",
       "    <tr>\n",
       "      <th>0</th>\n",
       "      <td>0</td>\n",
       "      <td>Frank Daniels</td>\n",
       "      <td>United States</td>\n",
       "      <td>Mercedes</td>\n",
       "      <td>67</td>\n",
       "      <td>4</td>\n",
       "      <td>5</td>\n",
       "      <td>56</td>\n",
       "      <td>29</td>\n",
       "      <td>62</td>\n",
       "      <td>16</td>\n",
       "      <td>Albert Park</td>\n",
       "      <td>16</td>\n",
       "    </tr>\n",
       "    <tr>\n",
       "      <th>1</th>\n",
       "      <td>1</td>\n",
       "      <td>Pierangelo Franceschi</td>\n",
       "      <td>Italy</td>\n",
       "      <td>Aston Martin</td>\n",
       "      <td>218</td>\n",
       "      <td>10</td>\n",
       "      <td>3</td>\n",
       "      <td>75</td>\n",
       "      <td>43</td>\n",
       "      <td>55</td>\n",
       "      <td>9</td>\n",
       "      <td>Circuit Zandvoort</td>\n",
       "      <td>17</td>\n",
       "    </tr>\n",
       "    <tr>\n",
       "      <th>2</th>\n",
       "      <td>2</td>\n",
       "      <td>Frederick Gamble</td>\n",
       "      <td>United States</td>\n",
       "      <td>Ferrari</td>\n",
       "      <td>167</td>\n",
       "      <td>8</td>\n",
       "      <td>3</td>\n",
       "      <td>56</td>\n",
       "      <td>52</td>\n",
       "      <td>72</td>\n",
       "      <td>11</td>\n",
       "      <td>Imola</td>\n",
       "      <td>14</td>\n",
       "    </tr>\n",
       "    <tr>\n",
       "      <th>3</th>\n",
       "      <td>3</td>\n",
       "      <td>Tristan Rousseau-Grondin</td>\n",
       "      <td>France</td>\n",
       "      <td>AlphaTauri</td>\n",
       "      <td>251</td>\n",
       "      <td>12</td>\n",
       "      <td>4</td>\n",
       "      <td>68</td>\n",
       "      <td>37</td>\n",
       "      <td>70</td>\n",
       "      <td>16</td>\n",
       "      <td>Circuit of The Americas</td>\n",
       "      <td>14</td>\n",
       "    </tr>\n",
       "    <tr>\n",
       "      <th>4</th>\n",
       "      <td>4</td>\n",
       "      <td>Horacio Alemany</td>\n",
       "      <td>Spain</td>\n",
       "      <td>Aston Martin</td>\n",
       "      <td>185</td>\n",
       "      <td>9</td>\n",
       "      <td>1</td>\n",
       "      <td>73</td>\n",
       "      <td>37</td>\n",
       "      <td>66</td>\n",
       "      <td>11</td>\n",
       "      <td>Jeddah Corniche Circuit</td>\n",
       "      <td>14</td>\n",
       "    </tr>\n",
       "  </tbody>\n",
       "</table>\n",
       "</div>"
      ],
      "text/plain": [
       "   Unnamed: 0                      name        country          team  races  \\\n",
       "0           0             Frank Daniels  United States      Mercedes     67   \n",
       "1           1     Pierangelo Franceschi          Italy  Aston Martin    218   \n",
       "2           2          Frederick Gamble  United States       Ferrari    167   \n",
       "3           3  Tristan Rousseau-Grondin         France    AlphaTauri    251   \n",
       "4           4           Horacio Alemany          Spain  Aston Martin    185   \n",
       "\n",
       "   years_in_f1  championships  gp_wins  podiums  poles  dnfs  \\\n",
       "0            4              5       56       29     62    16   \n",
       "1           10              3       75       43     55     9   \n",
       "2            8              3       56       52     72    11   \n",
       "3           12              4       68       37     70    16   \n",
       "4            9              1       73       37     66    11   \n",
       "\n",
       "               fav_circuit  avg_yearly_salary  \n",
       "0              Albert Park                 16  \n",
       "1        Circuit Zandvoort                 17  \n",
       "2                    Imola                 14  \n",
       "3  Circuit of The Americas                 14  \n",
       "4  Jeddah Corniche Circuit                 14  "
      ]
     },
     "execution_count": 8,
     "metadata": {},
     "output_type": "execute_result"
    }
   ],
   "source": [
    "formula1 = pd.read_csv('formula1.csv', sep=',')\n",
    "formula1.head()"
   ]
  },
  {
   "cell_type": "code",
   "execution_count": 11,
   "id": "9ec5d77c",
   "metadata": {},
   "outputs": [],
   "source": [
    "confidence1 = 0.90\n",
    "confidence2 = 0.95\n",
    "confidence3 = 0.99\n",
    "confidence4 = 0.9999"
   ]
  },
  {
   "cell_type": "code",
   "execution_count": 12,
   "id": "7735eb6e",
   "metadata": {},
   "outputs": [
    {
     "data": {
      "text/plain": [
       "(65.10332024397309, 65.25401308936026)"
      ]
     },
     "execution_count": 12,
     "metadata": {},
     "output_type": "execute_result"
    }
   ],
   "source": [
    "st.t.interval(confidence1, len(formula1)-1, loc=formula1['gp_wins'].mean(), scale=st.sem(formula1['championships']))"
   ]
  },
  {
   "cell_type": "code",
   "execution_count": 13,
   "id": "8d7ecb5e",
   "metadata": {},
   "outputs": [
    {
     "data": {
      "text/plain": [
       "(65.08885177639348, 65.26848155693986)"
      ]
     },
     "execution_count": 13,
     "metadata": {},
     "output_type": "execute_result"
    }
   ],
   "source": [
    "st.t.interval(confidence2, len(formula1)-1, loc=formula1['gp_wins'].mean(), scale=st.sem(formula1['championships']))"
   ]
  },
  {
   "cell_type": "code",
   "execution_count": 14,
   "id": "3bb25f1a",
   "metadata": {},
   "outputs": [
    {
     "data": {
      "text/plain": [
       "(65.06051959517623, 65.29681373815711)"
      ]
     },
     "execution_count": 14,
     "metadata": {},
     "output_type": "execute_result"
    }
   ],
   "source": [
    "st.t.interval(confidence3, len(formula1)-1, loc=formula1['gp_wins'].mean(), scale=st.sem(formula1['championships']))"
   ]
  },
  {
   "cell_type": "code",
   "execution_count": 15,
   "id": "2a3f699e",
   "metadata": {},
   "outputs": [
    {
     "data": {
      "text/plain": [
       "(64.99970598002676, 65.35762735330658)"
      ]
     },
     "execution_count": 15,
     "metadata": {},
     "output_type": "execute_result"
    }
   ],
   "source": [
    "st.t.interval(confidence4, len(formula1)-1, loc=formula1['gp_wins'].mean(), scale=st.sem(formula1['championships']))"
   ]
  },
  {
   "cell_type": "code",
   "execution_count": 20,
   "id": "d50a7a56",
   "metadata": {},
   "outputs": [],
   "source": [
    "per = 10\n",
    "formula110 = formula1.head(int(len(formula1)*(per/100)))"
   ]
  },
  {
   "cell_type": "code",
   "execution_count": 21,
   "id": "af79dfaa",
   "metadata": {},
   "outputs": [
    {
     "data": {
      "text/plain": [
       "(64.74386963852689, 65.33613036147312)"
      ]
     },
     "execution_count": 21,
     "metadata": {},
     "output_type": "execute_result"
    }
   ],
   "source": [
    "st.t.interval(confidence2, len(formula110)-1, loc=formula110['gp_wins'].mean(), scale=st.sem(formula110['championships']))"
   ]
  }
 ],
 "metadata": {
  "kernelspec": {
   "display_name": "Python 3 (ipykernel)",
   "language": "python",
   "name": "python3"
  },
  "language_info": {
   "codemirror_mode": {
    "name": "ipython",
    "version": 3
   },
   "file_extension": ".py",
   "mimetype": "text/x-python",
   "name": "python",
   "nbconvert_exporter": "python",
   "pygments_lexer": "ipython3",
   "version": "3.9.13"
  }
 },
 "nbformat": 4,
 "nbformat_minor": 5
}
