{
 "cells": [
  {
   "cell_type": "markdown",
   "id": "6a45fda7",
   "metadata": {},
   "source": [
    "### Portfolio assignment 6\n",
    "60 min: Perform a univariate analysis on at least 2 columns with categorical data and on at least 2 columns with numerical data in the dataset that you chose in portfolio assignment 4. Commit the Notebook to your portfolio when you're finished."
   ]
  },
  {
   "cell_type": "code",
   "execution_count": 2,
   "id": "af283142",
   "metadata": {},
   "outputs": [],
   "source": [
    "import pandas as pd"
   ]
  },
  {
   "cell_type": "code",
   "execution_count": 3,
   "id": "ad789007",
   "metadata": {},
   "outputs": [],
   "source": [
    "formula1 = pd.read_csv('formula1.csv', sep=',')"
   ]
  },
  {
   "cell_type": "code",
   "execution_count": 4,
   "id": "95b00d68",
   "metadata": {},
   "outputs": [
    {
     "data": {
      "text/html": [
       "<div>\n",
       "<style scoped>\n",
       "    .dataframe tbody tr th:only-of-type {\n",
       "        vertical-align: middle;\n",
       "    }\n",
       "\n",
       "    .dataframe tbody tr th {\n",
       "        vertical-align: top;\n",
       "    }\n",
       "\n",
       "    .dataframe thead th {\n",
       "        text-align: right;\n",
       "    }\n",
       "</style>\n",
       "<table border=\"1\" class=\"dataframe\">\n",
       "  <thead>\n",
       "    <tr style=\"text-align: right;\">\n",
       "      <th></th>\n",
       "      <th>Unnamed: 0</th>\n",
       "      <th>name</th>\n",
       "      <th>country</th>\n",
       "      <th>team</th>\n",
       "      <th>races</th>\n",
       "      <th>years_in_f1</th>\n",
       "      <th>championships</th>\n",
       "      <th>gp_wins</th>\n",
       "      <th>podiums</th>\n",
       "      <th>poles</th>\n",
       "      <th>dnfs</th>\n",
       "      <th>fav_circuit</th>\n",
       "      <th>avg_yearly_salary</th>\n",
       "    </tr>\n",
       "  </thead>\n",
       "  <tbody>\n",
       "    <tr>\n",
       "      <th>0</th>\n",
       "      <td>0</td>\n",
       "      <td>Frank Daniels</td>\n",
       "      <td>United States</td>\n",
       "      <td>Mercedes</td>\n",
       "      <td>67</td>\n",
       "      <td>4</td>\n",
       "      <td>5</td>\n",
       "      <td>56</td>\n",
       "      <td>29</td>\n",
       "      <td>62</td>\n",
       "      <td>16</td>\n",
       "      <td>Albert Park</td>\n",
       "      <td>16</td>\n",
       "    </tr>\n",
       "    <tr>\n",
       "      <th>1</th>\n",
       "      <td>1</td>\n",
       "      <td>Pierangelo Franceschi</td>\n",
       "      <td>Italy</td>\n",
       "      <td>Aston Martin</td>\n",
       "      <td>218</td>\n",
       "      <td>10</td>\n",
       "      <td>3</td>\n",
       "      <td>75</td>\n",
       "      <td>43</td>\n",
       "      <td>55</td>\n",
       "      <td>9</td>\n",
       "      <td>Circuit Zandvoort</td>\n",
       "      <td>17</td>\n",
       "    </tr>\n",
       "    <tr>\n",
       "      <th>2</th>\n",
       "      <td>2</td>\n",
       "      <td>Frederick Gamble</td>\n",
       "      <td>United States</td>\n",
       "      <td>Ferrari</td>\n",
       "      <td>167</td>\n",
       "      <td>8</td>\n",
       "      <td>3</td>\n",
       "      <td>56</td>\n",
       "      <td>52</td>\n",
       "      <td>72</td>\n",
       "      <td>11</td>\n",
       "      <td>Imola</td>\n",
       "      <td>14</td>\n",
       "    </tr>\n",
       "    <tr>\n",
       "      <th>3</th>\n",
       "      <td>3</td>\n",
       "      <td>Tristan Rousseau-Grondin</td>\n",
       "      <td>France</td>\n",
       "      <td>AlphaTauri</td>\n",
       "      <td>251</td>\n",
       "      <td>12</td>\n",
       "      <td>4</td>\n",
       "      <td>68</td>\n",
       "      <td>37</td>\n",
       "      <td>70</td>\n",
       "      <td>16</td>\n",
       "      <td>Circuit of The Americas</td>\n",
       "      <td>14</td>\n",
       "    </tr>\n",
       "    <tr>\n",
       "      <th>4</th>\n",
       "      <td>4</td>\n",
       "      <td>Horacio Alemany</td>\n",
       "      <td>Spain</td>\n",
       "      <td>Aston Martin</td>\n",
       "      <td>185</td>\n",
       "      <td>9</td>\n",
       "      <td>1</td>\n",
       "      <td>73</td>\n",
       "      <td>37</td>\n",
       "      <td>66</td>\n",
       "      <td>11</td>\n",
       "      <td>Jeddah Corniche Circuit</td>\n",
       "      <td>14</td>\n",
       "    </tr>\n",
       "  </tbody>\n",
       "</table>\n",
       "</div>"
      ],
      "text/plain": [
       "   Unnamed: 0                      name        country          team  races  \\\n",
       "0           0             Frank Daniels  United States      Mercedes     67   \n",
       "1           1     Pierangelo Franceschi          Italy  Aston Martin    218   \n",
       "2           2          Frederick Gamble  United States       Ferrari    167   \n",
       "3           3  Tristan Rousseau-Grondin         France    AlphaTauri    251   \n",
       "4           4           Horacio Alemany          Spain  Aston Martin    185   \n",
       "\n",
       "   years_in_f1  championships  gp_wins  podiums  poles  dnfs  \\\n",
       "0            4              5       56       29     62    16   \n",
       "1           10              3       75       43     55     9   \n",
       "2            8              3       56       52     72    11   \n",
       "3           12              4       68       37     70    16   \n",
       "4            9              1       73       37     66    11   \n",
       "\n",
       "               fav_circuit  avg_yearly_salary  \n",
       "0              Albert Park                 16  \n",
       "1        Circuit Zandvoort                 17  \n",
       "2                    Imola                 14  \n",
       "3  Circuit of The Americas                 14  \n",
       "4  Jeddah Corniche Circuit                 14  "
      ]
     },
     "execution_count": 4,
     "metadata": {},
     "output_type": "execute_result"
    }
   ],
   "source": [
    "formula1.head()"
   ]
  },
  {
   "cell_type": "code",
   "execution_count": 5,
   "id": "df72d269",
   "metadata": {},
   "outputs": [
    {
     "data": {
      "text/plain": [
       "(750, 13)"
      ]
     },
     "execution_count": 5,
     "metadata": {},
     "output_type": "execute_result"
    }
   ],
   "source": [
    "formula1.shape"
   ]
  },
  {
   "cell_type": "code",
   "execution_count": 14,
   "id": "71c1dbbf",
   "metadata": {},
   "outputs": [
    {
     "data": {
      "text/plain": [
       "<AxesSubplot:>"
      ]
     },
     "execution_count": 14,
     "metadata": {},
     "output_type": "execute_result"
    },
    {
     "data": {
      "image/png": "[encoded data removed]",
      "text/plain": [
       "<Figure size 640x480 with 1 Axes>"
      ]
     },
     "metadata": {},
     "output_type": "display_data"
    }
   ],
   "source": [
    "formula1['country'].value_counts().plot(kind='bar')"
   ]
  },
  {
   "cell_type": "code",
   "execution_count": 21,
   "id": "e07823fd",
   "metadata": {},
   "outputs": [
    {
     "data": {
      "text/plain": [
       "array(['United States', 'Italy', 'France', 'Spain', 'Australia',\n",
       "       'Great Britain', 'Finland', 'Germany', 'Netherlands'], dtype=object)"
      ]
     },
     "execution_count": 21,
     "metadata": {},
     "output_type": "execute_result"
    }
   ],
   "source": [
    "formula1['country'].unique()"
   ]
  },
  {
   "cell_type": "code",
   "execution_count": 16,
   "id": "198d87d6",
   "metadata": {},
   "outputs": [
    {
     "data": {
      "text/plain": [
       "<AxesSubplot:>"
      ]
     },
     "execution_count": 16,
     "metadata": {},
     "output_type": "execute_result"
    },
    {
     "data": {
      "image/png": "[encoded data removed]",
      "text/plain": [
       "<Figure size 640x480 with 1 Axes>"
      ]
     },
     "metadata": {},
     "output_type": "display_data"
    }
   ],
   "source": [
    "formula1['team'].value_counts().plot(kind='bar')"
   ]
  },
  {
   "cell_type": "code",
   "execution_count": 31,
   "id": "4990f5d6",
   "metadata": {},
   "outputs": [
    {
     "data": {
      "text/plain": [
       "array(['Mercedes', 'Aston Martin', 'Ferrari', 'AlphaTauri', 'Alfa Romeo',\n",
       "       'McLaren', 'Williams', 'Alpine', 'Red Bull', 'Haas'], dtype=object)"
      ]
     },
     "execution_count": 31,
     "metadata": {},
     "output_type": "execute_result"
    }
   ],
   "source": [
    "formula1['team'].unique()"
   ]
  },
  {
   "cell_type": "code",
   "execution_count": 13,
   "id": "3320d76f",
   "metadata": {},
   "outputs": [
    {
     "data": {
      "text/plain": [
       "<AxesSubplot:>"
      ]
     },
     "execution_count": 13,
     "metadata": {},
     "output_type": "execute_result"
    },
    {
     "data": {
      "image/png": "[encoded data removed]",
      "text/plain": [
       "<Figure size 640x480 with 1 Axes>"
      ]
     },
     "metadata": {},
     "output_type": "display_data"
    }
   ],
   "source": [
    "formula1['gp_wins'].value_counts().plot(kind='box')"
   ]
  },
  {
   "cell_type": "code",
   "execution_count": 30,
   "id": "482a1910",
   "metadata": {},
   "outputs": [
    {
     "data": {
      "text/plain": [
       "<AxesSubplot:>"
      ]
     },
     "execution_count": 30,
     "metadata": {},
     "output_type": "execute_result"
    },
    {
     "data": {
      "image/png": "[encoded data removed]",
      "text/plain": [
       "<Figure size 640x480 with 1 Axes>"
      ]
     },
     "metadata": {},
     "output_type": "display_data"
    }
   ],
   "source": [
    "formula1['gp_wins'].value_counts().plot(kind='bar')"
   ]
  },
  {
   "cell_type": "code",
   "execution_count": 32,
   "id": "5cc1da89",
   "metadata": {},
   "outputs": [
    {
     "data": {
      "text/plain": [
       "100"
      ]
     },
     "execution_count": 32,
     "metadata": {},
     "output_type": "execute_result"
    }
   ],
   "source": [
    "formula1['gp_wins'].min()"
   ]
  },
  {
   "cell_type": "code",
   "execution_count": 24,
   "id": "74daaae5",
   "metadata": {},
   "outputs": [
    {
     "data": {
      "text/plain": [
       "100"
      ]
     },
     "execution_count": 24,
     "metadata": {},
     "output_type": "execute_result"
    }
   ],
   "source": [
    "formula1['gp_wins'].max()"
   ]
  },
  {
   "cell_type": "code",
   "execution_count": 25,
   "id": "6cd0e557",
   "metadata": {},
   "outputs": [
    {
     "data": {
      "text/plain": [
       "65.17866666666667"
      ]
     },
     "execution_count": 25,
     "metadata": {},
     "output_type": "execute_result"
    }
   ],
   "source": [
    "formula1['gp_wins'].mean()"
   ]
  },
  {
   "cell_type": "code",
   "execution_count": 26,
   "id": "10da6ebc",
   "metadata": {},
   "outputs": [
    {
     "data": {
      "text/plain": [
       "66.0"
      ]
     },
     "execution_count": 26,
     "metadata": {},
     "output_type": "execute_result"
    }
   ],
   "source": [
    "formula1['gp_wins'].median()"
   ]
  },
  {
   "cell_type": "code",
   "execution_count": 27,
   "id": "e92d3bca",
   "metadata": {},
   "outputs": [
    {
     "data": {
      "text/plain": [
       "11.728575824742018"
      ]
     },
     "execution_count": 27,
     "metadata": {},
     "output_type": "execute_result"
    }
   ],
   "source": [
    "formula1['gp_wins'].std()"
   ]
  },
  {
   "cell_type": "code",
   "execution_count": 29,
   "id": "14446477",
   "metadata": {},
   "outputs": [
    {
     "data": {
      "text/plain": [
       "count    750.000000\n",
       "mean      65.178667\n",
       "std       11.728576\n",
       "min       30.000000\n",
       "25%       57.000000\n",
       "50%       66.000000\n",
       "75%       73.000000\n",
       "max      100.000000\n",
       "Name: gp_wins, dtype: float64"
      ]
     },
     "execution_count": 29,
     "metadata": {},
     "output_type": "execute_result"
    }
   ],
   "source": [
    "formula1['gp_wins'].describe()"
   ]
  },
  {
   "cell_type": "code",
   "execution_count": 34,
   "id": "2e22d691",
   "metadata": {},
   "outputs": [
    {
     "data": {
      "text/plain": [
       "0"
      ]
     },
     "execution_count": 34,
     "metadata": {},
     "output_type": "execute_result"
    }
   ],
   "source": [
    "formula1['championships'].min()"
   ]
  },
  {
   "cell_type": "code",
   "execution_count": 35,
   "id": "a0b9da55",
   "metadata": {},
   "outputs": [
    {
     "data": {
      "text/plain": [
       "8"
      ]
     },
     "execution_count": 35,
     "metadata": {},
     "output_type": "execute_result"
    }
   ],
   "source": [
    "formula1['championships'].max()"
   ]
  },
  {
   "cell_type": "code",
   "execution_count": 36,
   "id": "cfbdde13",
   "metadata": {},
   "outputs": [
    {
     "data": {
      "text/plain": [
       "3.7773333333333334"
      ]
     },
     "execution_count": 36,
     "metadata": {},
     "output_type": "execute_result"
    }
   ],
   "source": [
    "formula1['championships'].mean()"
   ]
  },
  {
   "cell_type": "code",
   "execution_count": 37,
   "id": "2259d940",
   "metadata": {},
   "outputs": [
    {
     "data": {
      "text/plain": [
       "4.0"
      ]
     },
     "execution_count": 37,
     "metadata": {},
     "output_type": "execute_result"
    }
   ],
   "source": [
    "formula1['championships'].median()"
   ]
  },
  {
   "cell_type": "code",
   "execution_count": 38,
   "id": "ab645f85",
   "metadata": {},
   "outputs": [
    {
     "data": {
      "text/plain": [
       "1.252934961165763"
      ]
     },
     "execution_count": 38,
     "metadata": {},
     "output_type": "execute_result"
    }
   ],
   "source": [
    "formula1['championships'].std()"
   ]
  },
  {
   "cell_type": "code",
   "execution_count": 18,
   "id": "034cdf0f",
   "metadata": {},
   "outputs": [
    {
     "data": {
      "text/plain": [
       "<AxesSubplot:>"
      ]
     },
     "execution_count": 18,
     "metadata": {},
     "output_type": "execute_result"
    },
    {
     "data": {
      "image/png": "[encoded data removed]",
      "text/plain": [
       "<Figure size 640x480 with 1 Axes>"
      ]
     },
     "metadata": {},
     "output_type": "display_data"
    }
   ],
   "source": [
    "formula1['championships'].value_counts().plot(kind='bar')"
   ]
  }
 ],
 "metadata": {
  "kernelspec": {
   "display_name": "Python 3 (ipykernel)",
   "language": "python",
   "name": "python3"
  },
  "language_info": {
   "codemirror_mode": {
    "name": "ipython",
    "version": 3
   },
   "file_extension": ".py",
   "mimetype": "text/x-python",
   "name": "python",
   "nbconvert_exporter": "python",
   "pygments_lexer": "ipython3",
   "version": "3.9.13"
  }
 },
 "nbformat": 4,
 "nbformat_minor": 5
}
