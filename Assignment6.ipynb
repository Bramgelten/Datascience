{
 "cells": [
  {
   "cell_type": "markdown",
   "id": "6a45fda7",
   "metadata": {},
   "source": [
    "### Portfolio assignment 6\n",
    "60 min: Perform a univariate analysis on at least 2 columns with categorical data and on at least 2 columns with numerical data in the dataset that you chose in portfolio assignment 4. Commit the Notebook to your portfolio when you're finished."
   ]
  },
  {
   "cell_type": "code",
   "execution_count": 1,
   "id": "af283142",
   "metadata": {},
   "outputs": [],
   "source": [
    "import pandas as pd"
   ]
  },
  {
   "cell_type": "code",
   "execution_count": 2,
   "id": "ad789007",
   "metadata": {},
   "outputs": [],
   "source": [
    "formula1 = pd.read_csv('formula1.csv', sep=',')"
   ]
  },
  {
   "cell_type": "code",
   "execution_count": 3,
   "id": "95b00d68",
   "metadata": {},
   "outputs": [
    {
     "data": {
      "text/html": [
       "<div>\n",
       "<style scoped>\n",
       "    .dataframe tbody tr th:only-of-type {\n",
       "        vertical-align: middle;\n",
       "    }\n",
       "\n",
       "    .dataframe tbody tr th {\n",
       "        vertical-align: top;\n",
       "    }\n",
       "\n",
       "    .dataframe thead th {\n",
       "        text-align: right;\n",
       "    }\n",
       "</style>\n",
       "<table border=\"1\" class=\"dataframe\">\n",
       "  <thead>\n",
       "    <tr style=\"text-align: right;\">\n",
       "      <th></th>\n",
       "      <th>Unnamed: 0</th>\n",
       "      <th>name</th>\n",
       "      <th>country</th>\n",
       "      <th>team</th>\n",
       "      <th>races</th>\n",
       "      <th>years_in_f1</th>\n",
       "      <th>championships</th>\n",
       "      <th>gp_wins</th>\n",
       "      <th>podiums</th>\n",
       "      <th>poles</th>\n",
       "      <th>dnfs</th>\n",
       "      <th>fav_circuit</th>\n",
       "      <th>avg_yearly_salary</th>\n",
       "    </tr>\n",
       "  </thead>\n",
       "  <tbody>\n",
       "    <tr>\n",
       "      <th>0</th>\n",
       "      <td>0</td>\n",
       "      <td>Frank Daniels</td>\n",
       "      <td>United States</td>\n",
       "      <td>Mercedes</td>\n",
       "      <td>67</td>\n",
       "      <td>4</td>\n",
       "      <td>5</td>\n",
       "      <td>56</td>\n",
       "      <td>29</td>\n",
       "      <td>62</td>\n",
       "      <td>16</td>\n",
       "      <td>Albert Park</td>\n",
       "      <td>16</td>\n",
       "    </tr>\n",
       "    <tr>\n",
       "      <th>1</th>\n",
       "      <td>1</td>\n",
       "      <td>Pierangelo Franceschi</td>\n",
       "      <td>Italy</td>\n",
       "      <td>Aston Martin</td>\n",
       "      <td>218</td>\n",
       "      <td>10</td>\n",
       "      <td>3</td>\n",
       "      <td>75</td>\n",
       "      <td>43</td>\n",
       "      <td>55</td>\n",
       "      <td>9</td>\n",
       "      <td>Circuit Zandvoort</td>\n",
       "      <td>17</td>\n",
       "    </tr>\n",
       "    <tr>\n",
       "      <th>2</th>\n",
       "      <td>2</td>\n",
       "      <td>Frederick Gamble</td>\n",
       "      <td>United States</td>\n",
       "      <td>Ferrari</td>\n",
       "      <td>167</td>\n",
       "      <td>8</td>\n",
       "      <td>3</td>\n",
       "      <td>56</td>\n",
       "      <td>52</td>\n",
       "      <td>72</td>\n",
       "      <td>11</td>\n",
       "      <td>Imola</td>\n",
       "      <td>14</td>\n",
       "    </tr>\n",
       "    <tr>\n",
       "      <th>3</th>\n",
       "      <td>3</td>\n",
       "      <td>Tristan Rousseau-Grondin</td>\n",
       "      <td>France</td>\n",
       "      <td>AlphaTauri</td>\n",
       "      <td>251</td>\n",
       "      <td>12</td>\n",
       "      <td>4</td>\n",
       "      <td>68</td>\n",
       "      <td>37</td>\n",
       "      <td>70</td>\n",
       "      <td>16</td>\n",
       "      <td>Circuit of The Americas</td>\n",
       "      <td>14</td>\n",
       "    </tr>\n",
       "    <tr>\n",
       "      <th>4</th>\n",
       "      <td>4</td>\n",
       "      <td>Horacio Alemany</td>\n",
       "      <td>Spain</td>\n",
       "      <td>Aston Martin</td>\n",
       "      <td>185</td>\n",
       "      <td>9</td>\n",
       "      <td>1</td>\n",
       "      <td>73</td>\n",
       "      <td>37</td>\n",
       "      <td>66</td>\n",
       "      <td>11</td>\n",
       "      <td>Jeddah Corniche Circuit</td>\n",
       "      <td>14</td>\n",
       "    </tr>\n",
       "  </tbody>\n",
       "</table>\n",
       "</div>"
      ],
      "text/plain": [
       "   Unnamed: 0                      name        country          team  races  \\\n",
       "0           0             Frank Daniels  United States      Mercedes     67   \n",
       "1           1     Pierangelo Franceschi          Italy  Aston Martin    218   \n",
       "2           2          Frederick Gamble  United States       Ferrari    167   \n",
       "3           3  Tristan Rousseau-Grondin         France    AlphaTauri    251   \n",
       "4           4           Horacio Alemany          Spain  Aston Martin    185   \n",
       "\n",
       "   years_in_f1  championships  gp_wins  podiums  poles  dnfs  \\\n",
       "0            4              5       56       29     62    16   \n",
       "1           10              3       75       43     55     9   \n",
       "2            8              3       56       52     72    11   \n",
       "3           12              4       68       37     70    16   \n",
       "4            9              1       73       37     66    11   \n",
       "\n",
       "               fav_circuit  avg_yearly_salary  \n",
       "0              Albert Park                 16  \n",
       "1        Circuit Zandvoort                 17  \n",
       "2                    Imola                 14  \n",
       "3  Circuit of The Americas                 14  \n",
       "4  Jeddah Corniche Circuit                 14  "
      ]
     },
     "execution_count": 3,
     "metadata": {},
     "output_type": "execute_result"
    }
   ],
   "source": [
    "formula1.head()"
   ]
  },
  {
   "cell_type": "code",
   "execution_count": 4,
   "id": "71c1dbbf",
   "metadata": {},
   "outputs": [
    {
     "data": {
      "text/plain": [
       "<AxesSubplot:>"
      ]
     },
     "execution_count": 4,
     "metadata": {},
     "output_type": "execute_result"
    },
    {
     "data": {
      "image/png": "[encoded data removed]",
      "text/plain": [
       "<Figure size 640x480 with 1 Axes>"
      ]
     },
     "metadata": {},
     "output_type": "display_data"
    }
   ],
   "source": [
    "formula1['country'].value_counts(dropna=False).plot(kind='bar')"
   ]
  },
  {
   "cell_type": "code",
   "execution_count": 5,
   "id": "198d87d6",
   "metadata": {},
   "outputs": [
    {
     "data": {
      "text/plain": [
       "<AxesSubplot:>"
      ]
     },
     "execution_count": 5,
     "metadata": {},
     "output_type": "execute_result"
    },
    {
     "data": {
      "image/png": "[encoded data removed]",
      "text/plain": [
       "<Figure size 640x480 with 1 Axes>"
      ]
     },
     "metadata": {},
     "output_type": "display_data"
    }
   ],
   "source": [
    "formula1['team'].value_counts(dropna=False).plot(kind='bar')"
   ]
  },
  {
   "cell_type": "code",
   "execution_count": 10,
   "id": "9bc7ac97",
   "metadata": {},
   "outputs": [
    {
     "data": {
      "text/html": [
       "<div>\n",
       "<style scoped>\n",
       "    .dataframe tbody tr th:only-of-type {\n",
       "        vertical-align: middle;\n",
       "    }\n",
       "\n",
       "    .dataframe tbody tr th {\n",
       "        vertical-align: top;\n",
       "    }\n",
       "\n",
       "    .dataframe thead th {\n",
       "        text-align: right;\n",
       "    }\n",
       "</style>\n",
       "<table border=\"1\" class=\"dataframe\">\n",
       "  <thead>\n",
       "    <tr style=\"text-align: right;\">\n",
       "      <th></th>\n",
       "      <th>name</th>\n",
       "      <th>races</th>\n",
       "    </tr>\n",
       "  </thead>\n",
       "  <tbody>\n",
       "    <tr>\n",
       "      <th>0</th>\n",
       "      <td>Frank Daniels</td>\n",
       "      <td>67</td>\n",
       "    </tr>\n",
       "    <tr>\n",
       "      <th>1</th>\n",
       "      <td>Pierangelo Franceschi</td>\n",
       "      <td>218</td>\n",
       "    </tr>\n",
       "    <tr>\n",
       "      <th>2</th>\n",
       "      <td>Frederick Gamble</td>\n",
       "      <td>167</td>\n",
       "    </tr>\n",
       "    <tr>\n",
       "      <th>3</th>\n",
       "      <td>Tristan Rousseau-Grondin</td>\n",
       "      <td>251</td>\n",
       "    </tr>\n",
       "    <tr>\n",
       "      <th>4</th>\n",
       "      <td>Horacio Alemany</td>\n",
       "      <td>185</td>\n",
       "    </tr>\n",
       "    <tr>\n",
       "      <th>...</th>\n",
       "      <td>...</td>\n",
       "      <td>...</td>\n",
       "    </tr>\n",
       "    <tr>\n",
       "      <th>745</th>\n",
       "      <td>Ottone Cuda</td>\n",
       "      <td>193</td>\n",
       "    </tr>\n",
       "    <tr>\n",
       "      <th>746</th>\n",
       "      <td>Leonard Murphy-Wells</td>\n",
       "      <td>133</td>\n",
       "    </tr>\n",
       "    <tr>\n",
       "      <th>747</th>\n",
       "      <td>Veerle Vos</td>\n",
       "      <td>206</td>\n",
       "    </tr>\n",
       "    <tr>\n",
       "      <th>748</th>\n",
       "      <td>Pamela White</td>\n",
       "      <td>166</td>\n",
       "    </tr>\n",
       "    <tr>\n",
       "      <th>749</th>\n",
       "      <td>Mika Jokinen</td>\n",
       "      <td>104</td>\n",
       "    </tr>\n",
       "  </tbody>\n",
       "</table>\n",
       "<p>750 rows × 2 columns</p>\n",
       "</div>"
      ],
      "text/plain": [
       "                         name  races\n",
       "0               Frank Daniels     67\n",
       "1       Pierangelo Franceschi    218\n",
       "2            Frederick Gamble    167\n",
       "3    Tristan Rousseau-Grondin    251\n",
       "4             Horacio Alemany    185\n",
       "..                        ...    ...\n",
       "745               Ottone Cuda    193\n",
       "746      Leonard Murphy-Wells    133\n",
       "747                Veerle Vos    206\n",
       "748              Pamela White    166\n",
       "749              Mika Jokinen    104\n",
       "\n",
       "[750 rows x 2 columns]"
      ]
     },
     "execution_count": 10,
     "metadata": {},
     "output_type": "execute_result"
    }
   ],
   "source": [
    "formula1[['name','races']]"
   ]
  },
  {
   "cell_type": "code",
   "execution_count": null,
   "id": "034cdf0f",
   "metadata": {
    "collapsed": true
   },
   "outputs": [],
   "source": []
  }
 ],
 "metadata": {
  "kernelspec": {
   "display_name": "Python 3 (ipykernel)",
   "language": "python",
   "name": "python3"
  },
  "language_info": {
   "codemirror_mode": {
    "name": "ipython",
    "version": 3
   },
   "file_extension": ".py",
   "mimetype": "text/x-python",
   "name": "python",
   "nbconvert_exporter": "python",
   "pygments_lexer": "ipython3",
   "version": "3.9.13"
  }
 },
 "nbformat": 4,
 "nbformat_minor": 5
}
